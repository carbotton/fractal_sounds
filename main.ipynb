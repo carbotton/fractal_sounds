{
 "cells": [
  {
   "cell_type": "code",
   "execution_count": null,
   "outputs": [],
   "source": [
    "######################################################################################################\n",
    "\n",
    "#                                 GENERAR CANCIONES\n",
    "\n",
    "######################################################################################################\n",
    "%load_ext autoreload\n",
    "%autoreload 2\n",
    "%reload_ext autoreload\n",
    "\n",
    "from classes.midi_generator.Generator import Generator\n",
    "import random\n",
    "\n",
    "# Si no le paso estos nuevos al Generator, usa lo que esta en config (default)\n",
    "new_midi_structure = ['A', 'B', 'A', 'B', 'C', 'B']\n",
    "new_backing_chords = [\"Cmaj7 G6\", \"Cmaj7 G6 Am7 G\", \"Cmaj7 G6 Am7 G E G E G\"]\n",
    "new_melody_primer_melody = [\"[48, -2, 52]\", \"[48, -2, 52, -2, 56]\", \"[48, -2, 52, -2, 56, -2, 60\"]\n",
    "\n",
    "\n",
    "x = 1   # Cantidad de midis a generar. Las listas de arriba tienen que tener x+1 elementos\n",
    "\n",
    "while x:\n",
    "    generator = Generator(midi_structure=new_midi_structure, backing_chords=new_backing_chords, melody_primer_melody=new_melody_primer_melody)\n",
    "    #generator = Generator()\n",
    "    generator.generate_midi_files()\n",
    "\n",
    "    x = x-1"
   ],
   "metadata": {
    "collapsed": false
   }
  },
  {
   "cell_type": "code",
   "outputs": [],
   "source": [
    "######################################################################################################\n",
    "\n",
    "#                                 CORRER PROGRAMA\n",
    "\n",
    "######################################################################################################\n",
    "from classes.shared_memory.shared_memory import SharedMemory\n",
    "from script import player_main, interpreter_main, fractal_main, fractal_player_main\n",
    "from multiprocessing import Process\n",
    "import win32api, win32process, win32con\n",
    "\n",
    "%load_ext autoreload\n",
    "%autoreload 2\n",
    "%reload_ext autoreload\n",
    "%matplotlib notebook\n",
    "\n",
    "def adjust_process_priority(pid, priority_class):\n",
    "    handle = win32api.OpenProcess(win32con.PROCESS_ALL_ACCESS, True, pid)\n",
    "    win32process.SetPriorityClass(handle, priority_class)\n",
    "    win32api.CloseHandle(handle)\n",
    "\n",
    "shared_memory=SharedMemory().shared_memory\n",
    "\n",
    "interpreter_process = Process(target=interpreter_main, args=[shared_memory])\n",
    "fractal_process = Process(target=fractal_main, args=[shared_memory])\n",
    "player_process = Process(target=player_main, args=[shared_memory])\n",
    "fractal_player= Process(target=fractal_player_main, args=[shared_memory])\n",
    "\n",
    "interpreter_process.start()\n",
    "adjust_process_priority(interpreter_process.pid, win32process.HIGH_PRIORITY_CLASS)\n",
    "fractal_process.start()\n",
    "adjust_process_priority(fractal_process.pid, win32process.HIGH_PRIORITY_CLASS)\n",
    "\n",
    "player_process.start()\n",
    "fractal_player.start()\n",
    "\n",
    "interpreter_process.join()\n",
    "fractal_process.join()\n",
    "player_process.join()\n",
    "fractal_player.join()"
   ],
   "metadata": {
    "collapsed": false,
    "pycharm": {
     "is_executing": true
    },
    "is_executing": true
   },
   "execution_count": null
  },
  {
   "cell_type": "markdown",
   "source": [],
   "metadata": {
    "collapsed": false
   }
  }
 ],
 "metadata": {
  "kernelspec": {
   "display_name": "Python 3",
   "language": "python",
   "name": "python3"
  },
  "language_info": {
   "codemirror_mode": {
    "name": "ipython",
    "version": 2
   },
   "file_extension": ".py",
   "mimetype": "text/x-python",
   "name": "python",
   "nbconvert_exporter": "python",
   "pygments_lexer": "ipython2",
   "version": "2.7.6"
  }
 },
 "nbformat": 4,
 "nbformat_minor": 0
}
